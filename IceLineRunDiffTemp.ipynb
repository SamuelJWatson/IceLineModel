{
 "cells": [
  {
   "cell_type": "markdown",
   "id": "c40e6f04-23dc-4616-985a-6aba3e36d59c",
   "metadata": {},
   "source": [
    "# Glacial ice line model with differing critical temp"
   ]
  },
  {
   "cell_type": "code",
   "execution_count": 1,
   "id": "6cf2e4bc-2d9e-490f-8d8d-8ceffeda0859",
   "metadata": {},
   "outputs": [],
   "source": [
    "import numpy as np\n",
    "import scipy as scipy\n",
    "import scipy.stats as stats\n",
    "import scipy.linalg as linalg\n",
    "from scipy.integrate import solve_ivp\n",
    "from scipy.optimize import root\n",
    "from pprint import pprint\n",
    "\n",
    "import matplotlib.gridspec as gridspec\n",
    "import matplotlib.path as mpath\n",
    "import matplotlib.pyplot as plt\n",
    "\n",
    "import sys\n",
    "import os\n",
    "import copy\n",
    "import string\n",
    "import glob\n",
    "import xarray as xr \n",
    "\n",
    "import warnings\n",
    "import warnings\n",
    "\n",
    "from custom_functions import *\n",
    "from IceLineModDiffTemp import *"
   ]
  },
  {
   "cell_type": "markdown",
   "id": "69bad541-1a6d-48ba-b1e8-f702728f5ba6",
   "metadata": {},
   "source": [
    "## Parameters"
   ]
  },
  {
   "cell_type": "code",
   "execution_count": 2,
   "id": "fca1f422-7fe3-4728-9250-258e55b3711a",
   "metadata": {},
   "outputs": [],
   "source": [
    "R = 1.                # Surface layer heat capacity (W/m^2K)\n",
    "Q = 343.              # Annual average insolation (W/m^2)\n",
    "beta = np.pi*23.5/180 # Obliquity (radians)\n",
    "a1 = 0.32             # Albedo between ice line latitudes\n",
    "a2 = 0.62             # Albedo polewards of ice line latitudes\n",
    "A = 202.              # Greenhouse gas parameter (W/m^2)\n",
    "B = 1.9               # Outgoing radiation (W/m^2K)\n",
    "C = 3.04              # Efficiency of heat transport (W/m^2K)\n",
    "T_cS = -10.           # critical temperature (^oC)\n",
    "T_cN = -2             # critical temperature (^oC)\n",
    "p = 0.3               # Ice line response to temp change (1/(K yr))\n",
    "\n",
    "pars = np.array([R,Q,beta,a1,a2,A,B,C,T_cS,T_cN,p]) # parameter array"
   ]
  },
  {
   "cell_type": "code",
   "execution_count": 3,
   "id": "39fc99c6-895f-42fc-9c4a-28a26e0d1b89",
   "metadata": {},
   "outputs": [],
   "source": [
    "# test model run\n",
    "# define initial conditions\n",
    "n01 = np.array([-5,-0.5,0.5])              # initial condition 1 \n",
    "n02 = np.array([-5,-0.5,0.5])                # initial condition 2 \n",
    "tspan = [0,30]                             # time interval to calculate trajectory \n",
    "h = 0.05                                 # time step size\n",
    "\n",
    "# Solve the ODE\n",
    "[X,t,xeq1] = MyIVP(lambda t,n:IL(t,n,pars),n01,tspan,h);\n",
    "pars[9]=-5\n",
    "[X2,t2,xeq2] = MyIVP(lambda t,n:IL(t,n,pars),n01,tspan,h);\n",
    "pars[9]=-10\n",
    "[X3,t3,xeq3] = MyIVP(lambda t,n:IL(t,n,pars),n01,tspan,h);\n",
    "\n",
    "X = np.squeeze(X)\n",
    "xeq1 = np.squeeze(xeq1)\n",
    "X2 = np.squeeze(X2)\n",
    "xeq2 = np.squeeze(xeq2)\n",
    "X3 = np.squeeze(X3)\n",
    "xeq3 = np.squeeze(xeq3)"
   ]
  },
  {
   "cell_type": "code",
   "execution_count": 4,
   "id": "81b99a49-26f3-4aec-933a-5ee4cfe9422b",
   "metadata": {
    "tags": []
   },
   "outputs": [
    {
     "data": {
      "image/png": "[encoded data removed]",
      "text/plain": [
       "<Figure size 640x480 with 2 Axes>"
      ]
     },
     "metadata": {},
     "output_type": "display_data"
    }
   ],
   "source": [
    "# plot solution trajectory\n",
    "fig, (ax1, ax2) = plt.subplots(2, sharex=True)\n",
    "ax1.plot(t,X[2,:], color = \"blue\")\n",
    "ax2.plot(t,X[1,:], color = \"blue\")\n",
    "ax1.plot(t2,X2[2,:], color = \"red\")\n",
    "ax2.plot(t2,X2[1,:], color = \"red\")\n",
    "ax1.plot(t3,X3[2,:], color = \"black\")\n",
    "ax2.plot(t3,X3[1,:], color = \"black\")\n",
    "ax1.set(ylabel = \"$\\eta_N$\")\n",
    "ax2.set(xlabel = \"$t$\", ylabel = \"$\\eta_S$\")\n",
    "plt.show()"
   ]
  },
  {
   "cell_type": "markdown",
   "id": "94c49a83-977c-4a30-aa6e-e0742792b93b",
   "metadata": {},
   "source": [
    "## Equilibria and stability"
   ]
  },
  {
   "cell_type": "code",
   "execution_count": 5,
   "id": "127e07aa-9932-4a88-85fb-63c6fd719398",
   "metadata": {},
   "outputs": [
    {
     "data": {
      "text/plain": [
       "array([-11.91881552,  -0.51019133,   0.26452655])"
      ]
     },
     "execution_count": 5,
     "metadata": {},
     "output_type": "execute_result"
    }
   ],
   "source": [
    "# find equilibrium\n",
    "def jac(x):\n",
    "    j = MyJacobian(lambda y: IL(0,y,pars),x,1e-6)\n",
    "    return np.squeeze(j)\n",
    "\n",
    "pars[9]=-5\n",
    "x01 = np.array([-5,-0.5,0.5]) \n",
    "sol1 = root(lambda y: IL(0,y,pars), x01, jac=jac, method='hybr')\n",
    "\n",
    "equi1 = sol1.x\n",
    "equi1"
   ]
  },
  {
   "cell_type": "code",
   "execution_count": 6,
   "id": "fb7e2bb5-e513-4090-a0af-ce6752ee57c1",
   "metadata": {},
   "outputs": [
    {
     "data": {
      "text/plain": [
       "array([ 1.25507114+0.j, -5.61190803+0.j, -9.75492571+0.j])"
      ]
     },
     "execution_count": 6,
     "metadata": {},
     "output_type": "execute_result"
    }
   ],
   "source": [
    "# check stability\n",
    "eigs1 = linalg.eigvals(jac(equi1))\n",
    "eigs1"
   ]
  },
  {
   "cell_type": "markdown",
   "id": "fe1cf104-f6dc-4d5f-b88a-2883fd71a7d1",
   "metadata": {},
   "source": [
    "So we see this equilibrium is unstable."
   ]
  },
  {
   "cell_type": "code",
   "execution_count": 7,
   "id": "e3f62121-9435-443d-bd7b-f3f101f96f36",
   "metadata": {},
   "outputs": [
    {
     "data": {
      "text/plain": [
       "array([ 2.86959414, -0.90730584,  0.79553943])"
      ]
     },
     "execution_count": 7,
     "metadata": {},
     "output_type": "execute_result"
    }
   ],
   "source": [
    "# find other equilibrium\n",
    "x02 = np.array([-5,-0.9,0.9]) \n",
    "sol2 = root(lambda y: IL(0,y,pars), x02, jac=jac, method='hybr')\n",
    "\n",
    "equi2 = sol2.x\n",
    "equi2"
   ]
  },
  {
   "cell_type": "code",
   "execution_count": 8,
   "id": "b7a8e430-e245-453d-81ea-7e1871a0dd17",
   "metadata": {},
   "outputs": [
    {
     "data": {
      "text/plain": [
       "array([ -0.80595374+0.j, -14.9258734 +0.j, -13.00986922+0.j])"
      ]
     },
     "execution_count": 8,
     "metadata": {},
     "output_type": "execute_result"
    }
   ],
   "source": [
    "# check stability\n",
    "eigs2 = linalg.eigvals(jac(equi2))\n",
    "eigs2"
   ]
  },
  {
   "cell_type": "markdown",
   "id": "1815f491-210d-43c8-af6c-885965fce277",
   "metadata": {},
   "source": [
    "So we see this equilibrium is stable."
   ]
  },
  {
   "cell_type": "markdown",
   "id": "6d812f9b-2792-4218-ae95-3c59ca6f8f1d",
   "metadata": {},
   "source": [
    "## Bifurcatons in $T_{cN}$"
   ]
  },
  {
   "cell_type": "code",
   "execution_count": 9,
   "id": "8698a09c-9b97-498b-bcb6-77cb16a9a566",
   "metadata": {
    "tags": []
   },
   "outputs": [
    {
     "name": "stderr",
     "output_type": "stream",
     "text": [
      "C:\\Users\\swatt\\AppData\\Local\\Temp\\ipykernel_3172\\3706172648.py:2: VisibleDeprecationWarning: Creating an ndarray from ragged nested sequences (which is a list-or-tuple of lists-or-tuples-or ndarrays with different lengths or shapes) is deprecated. If you meant to do this, you must specify 'dtype=object' when creating the ndarray.\n",
      "  RHS = lambda y: IL(0,y[0:3,:],np.array([R,Q,beta,a1,a2,A,B,C,T_cS,y[3,:],p]))\n"
     ]
    }
   ],
   "source": [
    "# Define RHS for tracking equilibria\n",
    "RHS = lambda y: IL(0,y[0:3,:],np.array([R,Q,beta,a1,a2,A,B,C,T_cS,y[3,:],p]))\n",
    "\n",
    "h=1e-6\n",
    "df= lambda y: np.squeeze(MyJacobian(RHS,y,h),axis=2)\n",
    "\n",
    "# Define MyTrackCurve initial points\n",
    "y0 = np.append(xeq2,np.array([T_cN]),axis=0);\n",
    "ytan0 = np.expand_dims(np.array([0,0,0,1]),axis=1); # guess in the direction of increasing F\n",
    "\n",
    "# Solve for the true initial tangent\n",
    "df0 = df(y0)\n",
    "zeros0 = np.zeros((3,))\n",
    "zeros1 = np.append(zeros0,np.array([1.]),axis=0)\n",
    "f0 = np.concatenate((df0,np.transpose(ytan0)),axis=0)\n",
    "z = np.linalg.lstsq(f0,zeros1,rcond=None)[0]\n",
    "mult = np.sign(np.matmul(np.transpose(z),ytan0))\n",
    "ytan = np.divide(z,linalg.norm(z))*mult\n",
    "\n",
    "ylist1 = MyTrackCurve(RHS,df,y0,ytan,nmax=1000,stepsize=0.05);\n",
    "\n",
    "# guess in direction for decreasing F\n",
    "ytan0 = np.expand_dims(np.array([0,0,0,-1]),axis=1);\n",
    "\n",
    "# Solve for the true initial tangent\n",
    "f0 = np.concatenate((df0,np.transpose(ytan0)),axis=0)\n",
    "z = np.linalg.lstsq(f0,zeros1,rcond=None)[0]\n",
    "mult = np.sign(np.matmul(np.transpose(z),ytan0))\n",
    "ytan = np.divide(z,linalg.norm(z))*mult\n",
    "\n",
    "ylist2 = MyTrackCurve(RHS,df,y0,ytan,nmax=1000,stepsize=0.05)"
   ]
  },
  {
   "cell_type": "code",
   "execution_count": 10,
   "id": "0b03002c-a8e4-4061-bf94-a115f9445153",
   "metadata": {},
   "outputs": [],
   "source": [
    "ylist = np.concatenate((np.flip(ylist2,1),ylist1),axis=1);\n",
    "\n",
    "# empty vector for stability\n",
    "stab = np.empty((ylist.shape[1],1))*np.nan\n",
    "\n",
    "for i in np.arange(0,ylist.shape[1]):\n",
    "    pi =np.array([R,Q,beta,a1,a2,A,B,C,T_cS,ylist[3,i],p])\n",
    "    J = MyJacobian(lambda x: IL(0,x,pi),ylist[0:3,i],h)\n",
    "    max_eig = max(np.real(linalg.eig(J[:,:,0])[0]))\n",
    "    stab[i] = max_eig > 0\n",
    "    if (i>0 and stab[i] != stab[i-1] and stab[i-1] != 10):\n",
    "        #print(max_eig)\n",
    "        stab[i] = 10\n",
    "\n",
    "# define dark green color for Saddle-Node bifurcation marker\n",
    "dg = (77./255, 149./255, 66./255)"
   ]
  },
  {
   "cell_type": "code",
   "execution_count": 11,
   "id": "a763797d-ed2d-48c8-a305-fa4b5c85ea12",
   "metadata": {},
   "outputs": [
    {
     "data": {
      "image/png": "[encoded data removed]",
      "text/plain": [
       "<Figure size 640x480 with 2 Axes>"
      ]
     },
     "metadata": {},
     "output_type": "display_data"
    }
   ],
   "source": [
    "# plot in n\n",
    "fig, (ax1, ax2) = plt.subplots(2, sharex=True)\n",
    "\n",
    "# plot n_N\n",
    "for i in np.arange(0,ylist.shape[1]):\n",
    "    if stab[i] == False:\n",
    "        ax1.plot(ylist[3,i],ylist[2,i],'b.',markersize=2,label = 'stable eq')\n",
    "    elif stab[i] == True:\n",
    "        ax1.plot(ylist[3,i],ylist[2,i],'r.',markersize=2,label = 'unstable eq')\n",
    "    elif stab[i] == 10:\n",
    "        ax1.plot(ylist[3,i],ylist[2,i],marker='o',color=dg,markersize=6,label='SN')\n",
    "    else:\n",
    "        print('Error - undefined stability type')\n",
    "\n",
    "# plot n_S\n",
    "for i in np.arange(0,ylist.shape[1]):\n",
    "    if stab[i] == False:\n",
    "        ax2.plot(ylist[3,i],ylist[1,i],'b.',markersize=2,label = 'stable eq')\n",
    "    elif stab[i] == True:\n",
    "        ax2.plot(ylist[3,i],ylist[1,i],'r.',markersize=2,label = 'unstable eq')\n",
    "    elif stab[i] == 10:\n",
    "        ax2.plot(ylist[3,i],ylist[1,i],marker='o',color=dg,markersize=6,label='SN')\n",
    "    else:\n",
    "        print('Error - undefined stability type')\n",
    "\n",
    "ax1.set(ylabel = \"$\\eta_N$\")\n",
    "ax2.set(xlabel = \"$T_{cN}$ $(^oC)$\", ylabel = \"$\\eta_S$\")\n",
    "ax1.set_xlim([-34, 0])\n",
    "# ax2.set_xlim([-20, -3])\n",
    "ax1.set_ylim([0, 1])\n",
    "ax2.set_ylim([-1.1, 0.5])\n",
    "#plt.legend(loc =\"upper left\")\n",
    "plt.show()"
   ]
  },
  {
   "cell_type": "code",
   "execution_count": 12,
   "id": "b4aa14ef-f7ad-4f63-842a-c2f9a337f52a",
   "metadata": {},
   "outputs": [
    {
     "data": {
      "image/png": "[encoded data removed]",
      "text/plain": [
       "<Figure size 640x480 with 1 Axes>"
      ]
     },
     "metadata": {},
     "output_type": "display_data"
    }
   ],
   "source": [
    "# plot n_N\n",
    "for i in np.arange(0,ylist.shape[1]):\n",
    "    if stab[i] == False:\n",
    "        plt.plot(ylist[3,i],ylist[2,i],'b.',markersize=2,label = 'stable eq')\n",
    "    elif stab[i] == True:\n",
    "        plt.plot(ylist[3,i],ylist[2,i],'r.',markersize=2,label = 'unstable eq')\n",
    "    elif stab[i] == 10:\n",
    "        plt.plot(ylist[3,i],ylist[2,i],marker='o',color=dg,markersize=6,label='SN')\n",
    "    else:\n",
    "        print('Error - undefined stability type')\n",
    "\n",
    "# plot n_S\n",
    "for i in np.arange(0,ylist.shape[1]):\n",
    "    if stab[i] == False:\n",
    "        plt.plot(ylist[3,i],ylist[1,i],'b.',markersize=2,label = 'stable eq')\n",
    "    elif stab[i] == True:\n",
    "        plt.plot(ylist[3,i],ylist[1,i],'r.',markersize=2,label = 'unstable eq')\n",
    "    elif stab[i] == 10:\n",
    "        plt.plot(ylist[3,i],ylist[1,i],marker='o',color=dg,markersize=6,label='SN')\n",
    "    else:\n",
    "        print('Error - undefined stability type')\n",
    "        \n",
    "plt.xlabel(\"$T_{cN}$ $(^oC)$\")\n",
    "plt.ylabel(\"$\\eta$\")\n",
    "plt.axis([-34,0,-1.1,1])\n",
    "#plt.legend(loc =\"upper left\")\n",
    "plt.show()"
   ]
  },
  {
   "cell_type": "code",
   "execution_count": 13,
   "id": "d4687ce0-4d16-4e54-be6b-7f1f082f96d8",
   "metadata": {
    "tags": []
   },
   "outputs": [
    {
     "data": {
      "text/plain": [
       "-1.3326454085078028"
      ]
     },
     "execution_count": 13,
     "metadata": {},
     "output_type": "execute_result"
    }
   ],
   "source": [
    "# find T_cN value at SN\n",
    "SNval = np.squeeze(np.argwhere(stab==10))[0]\n",
    "ylist[3,SNval]"
   ]
  },
  {
   "cell_type": "code",
   "execution_count": 14,
   "id": "14949889-a8ee-4f12-be08-cdd7541f4615",
   "metadata": {},
   "outputs": [
    {
     "data": {
      "text/plain": [
       "-34.00190148127297"
      ]
     },
     "execution_count": 14,
     "metadata": {},
     "output_type": "execute_result"
    }
   ],
   "source": [
    "# find value where north unstable state becomes unphysical. \n",
    "Tval2 = np.squeeze(np.argwhere(ylist[2,:]<1))[-1]\n",
    "ylist[3,Tval2]"
   ]
  },
  {
   "cell_type": "code",
   "execution_count": 15,
   "id": "ca4053bb-d5c1-44d1-841d-96c634a0d7f1",
   "metadata": {},
   "outputs": [
    {
     "data": {
      "text/plain": [
       "-11.7963840980913"
      ]
     },
     "execution_count": 15,
     "metadata": {},
     "output_type": "execute_result"
    }
   ],
   "source": [
    "# find value where north stable state becomes unphysical. \n",
    "Tval3 = np.squeeze(np.argwhere(ylist[2,:]<1))[0]\n",
    "ylist[3,Tval3]"
   ]
  }
 ],
 "metadata": {
  "kernelspec": {
   "display_name": "Python 3 (ipykernel)",
   "language": "python",
   "name": "python3"
  },
  "language_info": {
   "codemirror_mode": {
    "name": "ipython",
    "version": 3
   },
   "file_extension": ".py",
   "mimetype": "text/x-python",
   "name": "python",
   "nbconvert_exporter": "python",
   "pygments_lexer": "ipython3",
   "version": "3.9.12"
  }
 },
 "nbformat": 4,
 "nbformat_minor": 5
}
